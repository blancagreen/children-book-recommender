{
 "cells": [
  {
   "cell_type": "markdown",
   "id": "8d7de3da",
   "metadata": {},
   "source": [
    "# CONTENT BASED BOOK RECOMMENDATION SYSTEM"
   ]
  },
  {
   "cell_type": "markdown",
   "id": "996a33f3",
   "metadata": {},
   "source": [
    "## Importing the libraries and data"
   ]
  },
  {
   "cell_type": "code",
   "execution_count": 1,
   "id": "99d85817",
   "metadata": {},
   "outputs": [],
   "source": [
    "import numpy as np\n",
    "import pandas as pd\n",
    "import random\n",
    "import sklearn\n",
    "from nltk.corpus import stopwords\n",
    "from sklearn.feature_extraction.text import CountVectorizer\n",
    "from sklearn.metrics.pairwise import cosine_similarity\n",
    "\n",
    "import warnings\n",
    "warnings.filterwarnings('ignore')"
   ]
  },
  {
   "cell_type": "code",
   "execution_count": 2,
   "id": "a879630c",
   "metadata": {},
   "outputs": [],
   "source": [
    "df=pd.read_csv('reviewsdescriptions1000_for_recommender.csv')"
   ]
  },
  {
   "cell_type": "code",
   "execution_count": 3,
   "id": "0260665e",
   "metadata": {},
   "outputs": [
    {
     "data": {
      "text/plain": [
       "Index(['title', 'book_id', 'descriptiondetect', 'reviews_clean',\n",
       "       'description_clean'],\n",
       "      dtype='object')"
      ]
     },
     "execution_count": 3,
     "metadata": {},
     "output_type": "execute_result"
    }
   ],
   "source": [
    "df.columns"
   ]
  },
  {
   "cell_type": "code",
   "execution_count": 4,
   "id": "01912e17",
   "metadata": {},
   "outputs": [
    {
     "data": {
      "text/html": [
       "<div>\n",
       "<style scoped>\n",
       "    .dataframe tbody tr th:only-of-type {\n",
       "        vertical-align: middle;\n",
       "    }\n",
       "\n",
       "    .dataframe tbody tr th {\n",
       "        vertical-align: top;\n",
       "    }\n",
       "\n",
       "    .dataframe thead th {\n",
       "        text-align: right;\n",
       "    }\n",
       "</style>\n",
       "<table border=\"1\" class=\"dataframe\">\n",
       "  <thead>\n",
       "    <tr style=\"text-align: right;\">\n",
       "      <th></th>\n",
       "      <th>title</th>\n",
       "      <th>book_id</th>\n",
       "      <th>descriptiondetect</th>\n",
       "      <th>reviews_clean</th>\n",
       "      <th>description_clean</th>\n",
       "    </tr>\n",
       "  </thead>\n",
       "  <tbody>\n",
       "    <tr>\n",
       "      <th>0</th>\n",
       "      <td>11 Birthdays (Willow Falls, #1)</td>\n",
       "      <td>4835838</td>\n",
       "      <td>groundhog day meets flipped in this tale of a ...</td>\n",
       "      <td>kids like old memes themes adults jeremy fink ...</td>\n",
       "      <td>groundhog day meets flipped tale girl stuck bi...</td>\n",
       "    </tr>\n",
       "    <tr>\n",
       "      <th>1</th>\n",
       "      <td>14 Cows for America</td>\n",
       "      <td>6536509</td>\n",
       "      <td>in june of 2002, a ceremony begins in a villag...</td>\n",
       "      <td>original circumstances individuals book based ...</td>\n",
       "      <td>june ceremony begins village western kenya hun...</td>\n",
       "    </tr>\n",
       "    <tr>\n",
       "      <th>2</th>\n",
       "      <td>365 Days of Wonder: Mr. Browne's Book of Precepts</td>\n",
       "      <td>20758093</td>\n",
       "      <td>in the #1 new york timesbestselling novel wond...</td>\n",
       "      <td>cute book full inspirational quotesquick read ...</td>\n",
       "      <td>new york timesbestselling novel wonderreaders ...</td>\n",
       "    </tr>\n",
       "    <tr>\n",
       "      <th>3</th>\n",
       "      <td>A Bad Case of Stripes</td>\n",
       "      <td>474858</td>\n",
       "      <td>\"what we have here is a bad case of stripes. o...</td>\n",
       "      <td>book tc class picked book enjoyed childbook vi...</td>\n",
       "      <td>bad case stripes one worst ive ever seencamill...</td>\n",
       "    </tr>\n",
       "    <tr>\n",
       "      <th>4</th>\n",
       "      <td>A Ball for Daisy</td>\n",
       "      <td>9703979</td>\n",
       "      <td>winner of the 2012 randolph caldecott medal\\nt...</td>\n",
       "      <td>wordless picture book depicts story dog reciev...</td>\n",
       "      <td>winner randolph caldecott medalthis new york t...</td>\n",
       "    </tr>\n",
       "  </tbody>\n",
       "</table>\n",
       "</div>"
      ],
      "text/plain": [
       "                                               title   book_id  \\\n",
       "0                    11 Birthdays (Willow Falls, #1)   4835838   \n",
       "1                                14 Cows for America   6536509   \n",
       "2  365 Days of Wonder: Mr. Browne's Book of Precepts  20758093   \n",
       "3                              A Bad Case of Stripes    474858   \n",
       "4                                   A Ball for Daisy   9703979   \n",
       "\n",
       "                                   descriptiondetect  \\\n",
       "0  groundhog day meets flipped in this tale of a ...   \n",
       "1  in june of 2002, a ceremony begins in a villag...   \n",
       "2  in the #1 new york timesbestselling novel wond...   \n",
       "3  \"what we have here is a bad case of stripes. o...   \n",
       "4  winner of the 2012 randolph caldecott medal\\nt...   \n",
       "\n",
       "                                       reviews_clean  \\\n",
       "0  kids like old memes themes adults jeremy fink ...   \n",
       "1  original circumstances individuals book based ...   \n",
       "2  cute book full inspirational quotesquick read ...   \n",
       "3  book tc class picked book enjoyed childbook vi...   \n",
       "4  wordless picture book depicts story dog reciev...   \n",
       "\n",
       "                                   description_clean  \n",
       "0  groundhog day meets flipped tale girl stuck bi...  \n",
       "1  june ceremony begins village western kenya hun...  \n",
       "2  new york timesbestselling novel wonderreaders ...  \n",
       "3  bad case stripes one worst ive ever seencamill...  \n",
       "4  winner randolph caldecott medalthis new york t...  "
      ]
     },
     "execution_count": 4,
     "metadata": {},
     "output_type": "execute_result"
    }
   ],
   "source": [
    "df.head(5)"
   ]
  },
  {
   "cell_type": "markdown",
   "id": "c2c4a3a8",
   "metadata": {},
   "source": [
    "## Creating the Content based Book Recommender System "
   ]
  },
  {
   "cell_type": "markdown",
   "id": "17f2adc0",
   "metadata": {},
   "source": [
    "### Create a list of columns with the important features"
   ]
  },
  {
   "cell_type": "code",
   "execution_count": 5,
   "id": "8afbbf87",
   "metadata": {},
   "outputs": [],
   "source": [
    "columns = ['reviews_clean','description_clean']"
   ]
  },
  {
   "cell_type": "markdown",
   "id": "50e651c4",
   "metadata": {},
   "source": [
    "### Create a function to combine these important features"
   ]
  },
  {
   "cell_type": "code",
   "execution_count": 6,
   "id": "8955ef83",
   "metadata": {},
   "outputs": [],
   "source": [
    "def combine_features(df):\n",
    "    features=[]\n",
    "    for i in range(0,df.shape[0]):\n",
    "        features.append(df['reviews_clean'][i]+ ' ' + df['description_clean'][i])\n",
    "        \n",
    "    return features"
   ]
  },
  {
   "cell_type": "markdown",
   "id": "83592a44",
   "metadata": {},
   "source": [
    "### Create a new column with the combined features"
   ]
  },
  {
   "cell_type": "code",
   "execution_count": 7,
   "id": "c180a5d7",
   "metadata": {},
   "outputs": [],
   "source": [
    "df['combined_features'] = combine_features(df)"
   ]
  },
  {
   "cell_type": "code",
   "execution_count": 8,
   "id": "38adf4d6",
   "metadata": {},
   "outputs": [
    {
     "data": {
      "text/html": [
       "<div>\n",
       "<style scoped>\n",
       "    .dataframe tbody tr th:only-of-type {\n",
       "        vertical-align: middle;\n",
       "    }\n",
       "\n",
       "    .dataframe tbody tr th {\n",
       "        vertical-align: top;\n",
       "    }\n",
       "\n",
       "    .dataframe thead th {\n",
       "        text-align: right;\n",
       "    }\n",
       "</style>\n",
       "<table border=\"1\" class=\"dataframe\">\n",
       "  <thead>\n",
       "    <tr style=\"text-align: right;\">\n",
       "      <th></th>\n",
       "      <th>title</th>\n",
       "      <th>book_id</th>\n",
       "      <th>descriptiondetect</th>\n",
       "      <th>reviews_clean</th>\n",
       "      <th>description_clean</th>\n",
       "      <th>combined_features</th>\n",
       "    </tr>\n",
       "  </thead>\n",
       "  <tbody>\n",
       "    <tr>\n",
       "      <th>0</th>\n",
       "      <td>11 Birthdays (Willow Falls, #1)</td>\n",
       "      <td>4835838</td>\n",
       "      <td>groundhog day meets flipped in this tale of a ...</td>\n",
       "      <td>kids like old memes themes adults jeremy fink ...</td>\n",
       "      <td>groundhog day meets flipped tale girl stuck bi...</td>\n",
       "      <td>kids like old memes themes adults jeremy fink ...</td>\n",
       "    </tr>\n",
       "    <tr>\n",
       "      <th>1</th>\n",
       "      <td>14 Cows for America</td>\n",
       "      <td>6536509</td>\n",
       "      <td>in june of 2002, a ceremony begins in a villag...</td>\n",
       "      <td>original circumstances individuals book based ...</td>\n",
       "      <td>june ceremony begins village western kenya hun...</td>\n",
       "      <td>original circumstances individuals book based ...</td>\n",
       "    </tr>\n",
       "  </tbody>\n",
       "</table>\n",
       "</div>"
      ],
      "text/plain": [
       "                             title  book_id  \\\n",
       "0  11 Birthdays (Willow Falls, #1)  4835838   \n",
       "1              14 Cows for America  6536509   \n",
       "\n",
       "                                   descriptiondetect  \\\n",
       "0  groundhog day meets flipped in this tale of a ...   \n",
       "1  in june of 2002, a ceremony begins in a villag...   \n",
       "\n",
       "                                       reviews_clean  \\\n",
       "0  kids like old memes themes adults jeremy fink ...   \n",
       "1  original circumstances individuals book based ...   \n",
       "\n",
       "                                   description_clean  \\\n",
       "0  groundhog day meets flipped tale girl stuck bi...   \n",
       "1  june ceremony begins village western kenya hun...   \n",
       "\n",
       "                                   combined_features  \n",
       "0  kids like old memes themes adults jeremy fink ...  \n",
       "1  original circumstances individuals book based ...  "
      ]
     },
     "execution_count": 8,
     "metadata": {},
     "output_type": "execute_result"
    }
   ],
   "source": [
    "df.head(2)"
   ]
  },
  {
   "cell_type": "markdown",
   "id": "245ad8c6",
   "metadata": {},
   "source": [
    "### Convert the text from the new column to a matrix of word counts"
   ]
  },
  {
   "cell_type": "code",
   "execution_count": 9,
   "id": "af48ece9",
   "metadata": {},
   "outputs": [],
   "source": [
    "count=CountVectorizer(stop_words='english')"
   ]
  },
  {
   "cell_type": "code",
   "execution_count": 10,
   "id": "6d1f2cdb",
   "metadata": {},
   "outputs": [],
   "source": [
    "count_matrix=count.fit_transform(df['combined_features'])"
   ]
  },
  {
   "cell_type": "code",
   "execution_count": 11,
   "id": "8a8a0604",
   "metadata": {},
   "outputs": [
    {
     "data": {
      "text/plain": [
       "<1000x226090 sparse matrix of type '<class 'numpy.int64'>'\n",
       "\twith 1686230 stored elements in Compressed Sparse Row format>"
      ]
     },
     "execution_count": 11,
     "metadata": {},
     "output_type": "execute_result"
    }
   ],
   "source": [
    "count_matrix"
   ]
  },
  {
   "cell_type": "markdown",
   "id": "78d93ee6",
   "metadata": {},
   "source": [
    "### Get the cosine similarity matrix from the word count matrix"
   ]
  },
  {
   "cell_type": "code",
   "execution_count": 12,
   "id": "599412ab",
   "metadata": {},
   "outputs": [
    {
     "name": "stdout",
     "output_type": "stream",
     "text": [
      "Wall time: 1.59 s\n"
     ]
    },
    {
     "data": {
      "text/plain": [
       "array([[1.        , 0.36147289, 0.52728334, ..., 0.40151614, 0.42248363,\n",
       "        0.45849059],\n",
       "       [0.36147289, 1.        , 0.3836145 , ..., 0.34561999, 0.28700194,\n",
       "        0.38106167],\n",
       "       [0.52728334, 0.3836145 , 1.        , ..., 0.41083463, 0.45359523,\n",
       "        0.57301634],\n",
       "       ...,\n",
       "       [0.40151614, 0.34561999, 0.41083463, ..., 1.        , 0.34704922,\n",
       "        0.42681687],\n",
       "       [0.42248363, 0.28700194, 0.45359523, ..., 0.34704922, 1.        ,\n",
       "        0.46290224],\n",
       "       [0.45849059, 0.38106167, 0.57301634, ..., 0.42681687, 0.46290224,\n",
       "        1.        ]])"
      ]
     },
     "execution_count": 12,
     "metadata": {},
     "output_type": "execute_result"
    }
   ],
   "source": [
    "%%time\n",
    "cs=cosine_similarity(count_matrix,count_matrix)\n",
    "cs"
   ]
  },
  {
   "cell_type": "markdown",
   "id": "efb859f7",
   "metadata": {},
   "source": [
    "### Define the function to get recommendations from the similarity scores"
   ]
  },
  {
   "cell_type": "code",
   "execution_count": 13,
   "id": "ee7c964e",
   "metadata": {},
   "outputs": [],
   "source": [
    "indices = pd.Series(df.index, index=df['book_id'])"
   ]
  },
  {
   "cell_type": "code",
   "execution_count": 14,
   "id": "9ae4f647",
   "metadata": {},
   "outputs": [],
   "source": [
    "def get_recommendations(book_id, cosine_sim=cs):\n",
    "    \n",
    "    idx = indices[book_id]\n",
    "\n",
    "    # Get the pairwise similarity scores of all books with that book\n",
    "    sim_scores = list(enumerate(cosine_sim[idx]))\n",
    "\n",
    "    # Sort the movies based on the similarity scores\n",
    "    sim_scores = sorted(sim_scores, key=lambda x: x[1], reverse=True)\n",
    "\n",
    "    # Get the scores of the 5 most similar books\n",
    "    sim_scores = sim_scores[1:6]\n",
    "\n",
    "    # Get the books indices\n",
    "    book_indices = [i[0] for i in sim_scores]\n",
    "    \n",
    "    book_titles = dict(zip(df['book_id'], df['title']))\n",
    "    book_title = book_titles[book_id]\n",
    "\n",
    "    # Return the top 5 most similar books\n",
    "    print(\"Because you read\", book_title, \"you would love:\")\n",
    "    print('********************************************************')\n",
    "    print (list(df['title'].iloc[book_indices]))"
   ]
  },
  {
   "cell_type": "markdown",
   "id": "d20af1db",
   "metadata": {},
   "source": [
    "### Getting some recommendations of books"
   ]
  },
  {
   "cell_type": "code",
   "execution_count": 15,
   "id": "c1e90da8",
   "metadata": {},
   "outputs": [
    {
     "data": {
      "text/html": [
       "<div>\n",
       "<style scoped>\n",
       "    .dataframe tbody tr th:only-of-type {\n",
       "        vertical-align: middle;\n",
       "    }\n",
       "\n",
       "    .dataframe tbody tr th {\n",
       "        vertical-align: top;\n",
       "    }\n",
       "\n",
       "    .dataframe thead th {\n",
       "        text-align: right;\n",
       "    }\n",
       "</style>\n",
       "<table border=\"1\" class=\"dataframe\">\n",
       "  <thead>\n",
       "    <tr style=\"text-align: right;\">\n",
       "      <th></th>\n",
       "      <th>title</th>\n",
       "      <th>book_id</th>\n",
       "      <th>descriptiondetect</th>\n",
       "      <th>reviews_clean</th>\n",
       "      <th>description_clean</th>\n",
       "      <th>combined_features</th>\n",
       "    </tr>\n",
       "  </thead>\n",
       "  <tbody>\n",
       "    <tr>\n",
       "      <th>0</th>\n",
       "      <td>11 Birthdays (Willow Falls, #1)</td>\n",
       "      <td>4835838</td>\n",
       "      <td>groundhog day meets flipped in this tale of a ...</td>\n",
       "      <td>kids like old memes themes adults jeremy fink ...</td>\n",
       "      <td>groundhog day meets flipped tale girl stuck bi...</td>\n",
       "      <td>kids like old memes themes adults jeremy fink ...</td>\n",
       "    </tr>\n",
       "    <tr>\n",
       "      <th>1</th>\n",
       "      <td>14 Cows for America</td>\n",
       "      <td>6536509</td>\n",
       "      <td>in june of 2002, a ceremony begins in a villag...</td>\n",
       "      <td>original circumstances individuals book based ...</td>\n",
       "      <td>june ceremony begins village western kenya hun...</td>\n",
       "      <td>original circumstances individuals book based ...</td>\n",
       "    </tr>\n",
       "    <tr>\n",
       "      <th>2</th>\n",
       "      <td>365 Days of Wonder: Mr. Browne's Book of Precepts</td>\n",
       "      <td>20758093</td>\n",
       "      <td>in the #1 new york timesbestselling novel wond...</td>\n",
       "      <td>cute book full inspirational quotesquick read ...</td>\n",
       "      <td>new york timesbestselling novel wonderreaders ...</td>\n",
       "      <td>cute book full inspirational quotesquick read ...</td>\n",
       "    </tr>\n",
       "    <tr>\n",
       "      <th>3</th>\n",
       "      <td>A Bad Case of Stripes</td>\n",
       "      <td>474858</td>\n",
       "      <td>\"what we have here is a bad case of stripes. o...</td>\n",
       "      <td>book tc class picked book enjoyed childbook vi...</td>\n",
       "      <td>bad case stripes one worst ive ever seencamill...</td>\n",
       "      <td>book tc class picked book enjoyed childbook vi...</td>\n",
       "    </tr>\n",
       "    <tr>\n",
       "      <th>4</th>\n",
       "      <td>A Ball for Daisy</td>\n",
       "      <td>9703979</td>\n",
       "      <td>winner of the 2012 randolph caldecott medal\\nt...</td>\n",
       "      <td>wordless picture book depicts story dog reciev...</td>\n",
       "      <td>winner randolph caldecott medalthis new york t...</td>\n",
       "      <td>wordless picture book depicts story dog reciev...</td>\n",
       "    </tr>\n",
       "  </tbody>\n",
       "</table>\n",
       "</div>"
      ],
      "text/plain": [
       "                                               title   book_id  \\\n",
       "0                    11 Birthdays (Willow Falls, #1)   4835838   \n",
       "1                                14 Cows for America   6536509   \n",
       "2  365 Days of Wonder: Mr. Browne's Book of Precepts  20758093   \n",
       "3                              A Bad Case of Stripes    474858   \n",
       "4                                   A Ball for Daisy   9703979   \n",
       "\n",
       "                                   descriptiondetect  \\\n",
       "0  groundhog day meets flipped in this tale of a ...   \n",
       "1  in june of 2002, a ceremony begins in a villag...   \n",
       "2  in the #1 new york timesbestselling novel wond...   \n",
       "3  \"what we have here is a bad case of stripes. o...   \n",
       "4  winner of the 2012 randolph caldecott medal\\nt...   \n",
       "\n",
       "                                       reviews_clean  \\\n",
       "0  kids like old memes themes adults jeremy fink ...   \n",
       "1  original circumstances individuals book based ...   \n",
       "2  cute book full inspirational quotesquick read ...   \n",
       "3  book tc class picked book enjoyed childbook vi...   \n",
       "4  wordless picture book depicts story dog reciev...   \n",
       "\n",
       "                                   description_clean  \\\n",
       "0  groundhog day meets flipped tale girl stuck bi...   \n",
       "1  june ceremony begins village western kenya hun...   \n",
       "2  new york timesbestselling novel wonderreaders ...   \n",
       "3  bad case stripes one worst ive ever seencamill...   \n",
       "4  winner randolph caldecott medalthis new york t...   \n",
       "\n",
       "                                   combined_features  \n",
       "0  kids like old memes themes adults jeremy fink ...  \n",
       "1  original circumstances individuals book based ...  \n",
       "2  cute book full inspirational quotesquick read ...  \n",
       "3  book tc class picked book enjoyed childbook vi...  \n",
       "4  wordless picture book depicts story dog reciev...  "
      ]
     },
     "execution_count": 15,
     "metadata": {},
     "output_type": "execute_result"
    }
   ],
   "source": [
    "df.head()"
   ]
  },
  {
   "cell_type": "code",
   "execution_count": 16,
   "id": "ed9b0cd8",
   "metadata": {},
   "outputs": [
    {
     "name": "stdout",
     "output_type": "stream",
     "text": [
      "Because you read Charlie and the Chocolate Factory (Charlie Bucket, #1) you would love:\n",
      "********************************************************\n",
      "['Charlie and the Great Glass Elevator (Charlie Bucket, #2)', 'The Witches', 'The BFG', 'The Phantom Tollbooth', 'James and the Giant Peach']\n"
     ]
    }
   ],
   "source": [
    "get_recommendations(6310, cs)"
   ]
  },
  {
   "cell_type": "code",
   "execution_count": 17,
   "id": "88d6ebb4",
   "metadata": {},
   "outputs": [
    {
     "name": "stdout",
     "output_type": "stream",
     "text": [
      "Because you read The Butter Battle Book you would love:\n",
      "********************************************************\n",
      "['The Lorax', \"Oh, The Places You'll Go!\", 'What Pet Should I Get?', 'Hop On Pop', 'Green Eggs and Ham']\n"
     ]
    }
   ],
   "source": [
    "get_recommendations(275325, cs)"
   ]
  },
  {
   "cell_type": "code",
   "execution_count": 18,
   "id": "0f513df1",
   "metadata": {},
   "outputs": [
    {
     "name": "stdout",
     "output_type": "stream",
     "text": [
      "Because you read Where the Wild Things Are you would love:\n",
      "********************************************************\n",
      "['Goodnight Moon', 'The Phantom Tollbooth', 'The Book with No Pictures', 'Where the Red Fern Grows', 'The Last of the Really Great Whangdoodles']\n"
     ]
    }
   ],
   "source": [
    "get_recommendations(19543, cs)"
   ]
  },
  {
   "cell_type": "code",
   "execution_count": 19,
   "id": "81fc62a2",
   "metadata": {},
   "outputs": [
    {
     "name": "stdout",
     "output_type": "stream",
     "text": [
      "Because you read The Giver (The Giver, #1) you would love:\n",
      "********************************************************\n",
      "['Bridge to Terabithia', 'Wonder (Wonder #1)', 'The Phantom Tollbooth', 'Where the Red Fern Grows', 'The Mysterious Benedict Society (The Mysterious Benedict Society, #1)']\n"
     ]
    }
   ],
   "source": [
    "get_recommendations(3636, cs)"
   ]
  },
  {
   "cell_type": "code",
   "execution_count": 20,
   "id": "46f29f1a",
   "metadata": {},
   "outputs": [
    {
     "data": {
      "text/html": [
       "<div>\n",
       "<style scoped>\n",
       "    .dataframe tbody tr th:only-of-type {\n",
       "        vertical-align: middle;\n",
       "    }\n",
       "\n",
       "    .dataframe tbody tr th {\n",
       "        vertical-align: top;\n",
       "    }\n",
       "\n",
       "    .dataframe thead th {\n",
       "        text-align: right;\n",
       "    }\n",
       "</style>\n",
       "<table border=\"1\" class=\"dataframe\">\n",
       "  <thead>\n",
       "    <tr style=\"text-align: right;\">\n",
       "      <th></th>\n",
       "      <th>title</th>\n",
       "      <th>book_id</th>\n",
       "      <th>descriptiondetect</th>\n",
       "      <th>reviews_clean</th>\n",
       "      <th>description_clean</th>\n",
       "      <th>combined_features</th>\n",
       "    </tr>\n",
       "  </thead>\n",
       "  <tbody>\n",
       "    <tr>\n",
       "      <th>429</th>\n",
       "      <td>Mix It Up!</td>\n",
       "      <td>20549446</td>\n",
       "      <td>accept herve tullet's irresistible invitation ...</td>\n",
       "      <td>better recent onesread prek children loved pre...</td>\n",
       "      <td>accept herve tullets irresistible invitation m...</td>\n",
       "      <td>better recent onesread prek children loved pre...</td>\n",
       "    </tr>\n",
       "  </tbody>\n",
       "</table>\n",
       "</div>"
      ],
      "text/plain": [
       "          title   book_id                                  descriptiondetect  \\\n",
       "429  Mix It Up!  20549446  accept herve tullet's irresistible invitation ...   \n",
       "\n",
       "                                         reviews_clean  \\\n",
       "429  better recent onesread prek children loved pre...   \n",
       "\n",
       "                                     description_clean  \\\n",
       "429  accept herve tullets irresistible invitation m...   \n",
       "\n",
       "                                     combined_features  \n",
       "429  better recent onesread prek children loved pre...  "
      ]
     },
     "execution_count": 20,
     "metadata": {},
     "output_type": "execute_result"
    }
   ],
   "source": [
    "df[df.title== 'Mix It Up!']"
   ]
  },
  {
   "cell_type": "code",
   "execution_count": 21,
   "id": "b15ecf7a",
   "metadata": {},
   "outputs": [
    {
     "name": "stdout",
     "output_type": "stream",
     "text": [
      "Because you read Mix It Up! you would love:\n",
      "********************************************************\n",
      "['Press Here', 'Mouse Paint', 'Open This Little Book', 'This Book Just Ate My Dog!', 'One']\n"
     ]
    }
   ],
   "source": [
    "get_recommendations(20549446, cs)"
   ]
  },
  {
   "cell_type": "code",
   "execution_count": 22,
   "id": "c5559300",
   "metadata": {},
   "outputs": [
    {
     "data": {
      "text/plain": [
       "315    11233988\n",
       "Name: book_id, dtype: int64"
      ]
     },
     "execution_count": 22,
     "metadata": {},
     "output_type": "execute_result"
    }
   ],
   "source": [
    "df[df.title== 'I Want My Hat Back'].book_id"
   ]
  },
  {
   "cell_type": "code",
   "execution_count": 23,
   "id": "75e5b65d",
   "metadata": {},
   "outputs": [
    {
     "name": "stdout",
     "output_type": "stream",
     "text": [
      "Because you read I Want My Hat Back you would love:\n",
      "********************************************************\n",
      "['This is Not My Hat', \"We're Going on a Bear Hunt\", 'Go, Dog. Go!', 'Bear Snores On', 'The Cat in the Hat']\n"
     ]
    }
   ],
   "source": [
    "get_recommendations(11233988, cs)"
   ]
  },
  {
   "cell_type": "code",
   "execution_count": 24,
   "id": "f5117a1a",
   "metadata": {},
   "outputs": [
    {
     "name": "stdout",
     "output_type": "stream",
     "text": [
      "Because you read James and the Giant Peach you would love:\n",
      "********************************************************\n",
      "['The BFG', 'The Witches', 'Charlie and the Chocolate Factory (Charlie Bucket, #1)', 'The Phantom Tollbooth', 'The Giraffe and the Pelly and Me']\n"
     ]
    }
   ],
   "source": [
    "get_recommendations(6689, cs)"
   ]
  },
  {
   "cell_type": "code",
   "execution_count": 26,
   "id": "1f22351c",
   "metadata": {},
   "outputs": [
    {
     "name": "stdout",
     "output_type": "stream",
     "text": [
      "Because you read The Tale of Peter Rabbit you would love:\n",
      "********************************************************\n",
      "['Peter Nimble and His Fantastic Eyes (Peter Nimble, #1)', 'Peter and the Starcatchers (Peter and the Starcatchers, #1)', 'The Railway Children', 'The Velveteen Rabbit', 'The Secret Garden']\n"
     ]
    }
   ],
   "source": [
    "get_recommendations(19321, cs)"
   ]
  },
  {
   "cell_type": "code",
   "execution_count": 27,
   "id": "4e6a8773",
   "metadata": {},
   "outputs": [
    {
     "name": "stdout",
     "output_type": "stream",
     "text": [
      "Because you read Ada Twist, Scientist you would love:\n",
      "********************************************************\n",
      "['The Field Guide (The Spiderwick Chronicles, #1)', 'All the World', 'The Mysterious Benedict Society (The Mysterious Benedict Society, #1)', 'Iggy Peck, Architect', 'I Like Myself!']\n"
     ]
    }
   ],
   "source": [
    "get_recommendations(28507895, cs)"
   ]
  }
 ],
 "metadata": {
  "kernelspec": {
   "display_name": "Python 3",
   "language": "python",
   "name": "python3"
  },
  "language_info": {
   "codemirror_mode": {
    "name": "ipython",
    "version": 3
   },
   "file_extension": ".py",
   "mimetype": "text/x-python",
   "name": "python",
   "nbconvert_exporter": "python",
   "pygments_lexer": "ipython3",
   "version": "3.7.10"
  },
  "toc": {
   "base_numbering": 1,
   "nav_menu": {},
   "number_sections": true,
   "sideBar": true,
   "skip_h1_title": false,
   "title_cell": "Table of Contents",
   "title_sidebar": "Contents",
   "toc_cell": false,
   "toc_position": {
    "height": "calc(100% - 180px)",
    "left": "10px",
    "top": "150px",
    "width": "307.2px"
   },
   "toc_section_display": true,
   "toc_window_display": true
  },
  "varInspector": {
   "cols": {
    "lenName": 16,
    "lenType": 16,
    "lenVar": 40
   },
   "kernels_config": {
    "python": {
     "delete_cmd_postfix": "",
     "delete_cmd_prefix": "del ",
     "library": "var_list.py",
     "varRefreshCmd": "print(var_dic_list())"
    },
    "r": {
     "delete_cmd_postfix": ") ",
     "delete_cmd_prefix": "rm(",
     "library": "var_list.r",
     "varRefreshCmd": "cat(var_dic_list()) "
    }
   },
   "types_to_exclude": [
    "module",
    "function",
    "builtin_function_or_method",
    "instance",
    "_Feature"
   ],
   "window_display": false
  }
 },
 "nbformat": 4,
 "nbformat_minor": 5
}
